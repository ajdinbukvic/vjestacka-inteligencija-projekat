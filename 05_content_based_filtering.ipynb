{
 "cells": [
  {
   "cell_type": "code",
   "execution_count": 53,
   "metadata": {},
   "outputs": [],
   "source": [
    "import pandas as pd\n",
    "from sklearn.feature_extraction.text import TfidfVectorizer\n",
    "from sklearn.metrics.pairwise import linear_kernel\n"
   ]
  },
  {
   "cell_type": "code",
   "execution_count": 54,
   "metadata": {},
   "outputs": [],
   "source": [
    "movies = pd.read_csv('./podaci/movie.csv')\n",
    "\n",
    "movies['title'] = movies['title'].apply(lambda x: x if pd.isna(x) else (str(x).split('(')[0].strip()))\n",
    "\n",
    "# Pretvaranje NaN vrednosti u prazan string\n",
    "movies['genres'] = movies['genres'].fillna('')\n",
    "\n",
    "# Kombinovanje relevantnih informacija u zasebnu kolonu\n",
    "movies['combined'] = movies['title'] + ' ' + movies['genres']"
   ]
  },
  {
   "cell_type": "code",
   "execution_count": 55,
   "metadata": {},
   "outputs": [],
   "source": [
    "# Inicijalizacija TF-IDF vektora\n",
    "tfidf_vectorizer = TfidfVectorizer(stop_words='english', analyzer='word', ngram_range=(1,2))\n",
    "tfidf_matrix = tfidf_vectorizer.fit_transform(movies['combined'])"
   ]
  },
  {
   "cell_type": "code",
   "execution_count": 56,
   "metadata": {},
   "outputs": [],
   "source": [
    "# Računanje sličnosti između filmova pomoću kosinusne sličnosti\n",
    "cosine_similarities = linear_kernel(tfidf_matrix, tfidf_matrix)"
   ]
  },
  {
   "cell_type": "code",
   "execution_count": 57,
   "metadata": {},
   "outputs": [],
   "source": [
    "# Funkcija za generisanje preporuka\n",
    "def get_recommendations(movie_title, cosine_similarities=cosine_similarities):\n",
    "    movie_index = movies.index[movies['title'] == movie_title].tolist()[0]\n",
    "    similar_movies = list(enumerate(cosine_similarities[movie_index]))\n",
    "    similar_movies = sorted(similar_movies, key=lambda x: x[1], reverse=True)\n",
    "    similar_movies = similar_movies[1:11]  # Prvih 10 sličnih filmova (ignorišee se sam film)\n",
    "\n",
    "    recommended_movies = [(movies.iloc[i[0]]['title'], movies.iloc[i[0]]['genres']) for i in similar_movies]\n",
    "\n",
    "    return recommended_movies"
   ]
  },
  {
   "cell_type": "code",
   "execution_count": 58,
   "metadata": {},
   "outputs": [
    {
     "name": "stdout",
     "output_type": "stream",
     "text": [
      "      movieId    title        genres              combined\n",
      "1532     1584  Contact  Drama|Sci-Fi  Contact Drama|Sci-Fi\n"
     ]
    }
   ],
   "source": [
    "# Primjer: Generisanje preporuka za film \"Contact\"\n",
    "movie_title = \"Contact\"\n",
    "print(movies[movies.title.eq(movie_title)])"
   ]
  },
  {
   "cell_type": "code",
   "execution_count": 59,
   "metadata": {},
   "outputs": [
    {
     "name": "stdout",
     "output_type": "stream",
     "text": [
      "Preporuke za film 'Contact':\n",
      "1. V (Drama|Sci-Fi)\n",
      "2. It's Me, It's Me (Comedy|Drama|Sci-Fi)\n",
      "3. Love (Drama|Sci-Fi)\n",
      "4. Last Night (Drama|Sci-Fi)\n",
      "5. Day After, The (Drama|Sci-Fi)\n",
      "6. Everything I Can See From Here (Adventure|Animation|Drama|Sci-Fi)\n",
      "7. Day, The (Drama|Sci-Fi|Thriller)\n",
      "8. Making Contact (Fantasy|Horror|Sci-Fi)\n",
      "9. Beyond the Stars (Drama|Sci-Fi)\n",
      "10. Face of Another, The (Drama|Sci-Fi)\n"
     ]
    }
   ],
   "source": [
    "recommendations = get_recommendations(movie_title)\n",
    "\n",
    "print(f\"Preporuke za film '{movie_title}':\")\n",
    "for i, (title, genres) in enumerate(recommendations):\n",
    "    print(f\"{i + 1}. {title} ({genres})\")"
   ]
  },
  {
   "cell_type": "code",
   "execution_count": 32,
   "metadata": {},
   "outputs": [],
   "source": [
    "import pandas as pd\n",
    "import numpy as np\n",
    "from sklearn.feature_extraction.text import TfidfVectorizer\n",
    "from sklearn.metrics.pairwise import linear_kernel"
   ]
  },
  {
   "cell_type": "code",
   "execution_count": 33,
   "metadata": {},
   "outputs": [],
   "source": [
    "movies = pd.read_csv('./podaci/movie.csv')\n",
    "ratings = pd.read_csv('./podaci/ratings_small.csv')"
   ]
  },
  {
   "cell_type": "code",
   "execution_count": 34,
   "metadata": {},
   "outputs": [],
   "source": [
    "# Odabir ID-a korisnika\n",
    "user_id = 1"
   ]
  },
  {
   "cell_type": "code",
   "execution_count": 35,
   "metadata": {},
   "outputs": [],
   "source": [
    "movies['title'] = movies['title'].apply(lambda x: x if pd.isna(x) else (str(x).split('(')[0].strip()))\n",
    "user_ratings = ratings[ratings['userId'] == user_id]"
   ]
  },
  {
   "cell_type": "code",
   "execution_count": 36,
   "metadata": {},
   "outputs": [],
   "source": [
    "rated_movies = pd.merge(user_ratings, movies, on='movieId')\n",
    "\n",
    "# Filtriranje filmova koje je korisnik ocijenio\n",
    "user_rated_movies = rated_movies[(rated_movies['userId'] == user_id) & (rated_movies['rating'] > 3)]"
   ]
  },
  {
   "cell_type": "code",
   "execution_count": 37,
   "metadata": {},
   "outputs": [],
   "source": [
    "# Ako korisnik nema ocjene, koriste se svi žanrovi iz dataseta\n",
    "if user_rated_movies.empty:\n",
    "    user_genres = '|'.join(movies['genres'].unique())\n",
    "else:\n",
    "    user_genres = '|'.join(user_rated_movies['genres'].unique())"
   ]
  },
  {
   "cell_type": "code",
   "execution_count": 38,
   "metadata": {},
   "outputs": [],
   "source": [
    "# Razdvajanje žanrova u pojedinačne riječi\n",
    "user_genres_list = user_genres.split('|')\n",
    "\n",
    "# Kombinovanje preferiranih žanrova i ocjena za korisnika\n",
    "movies['genres'] = movies['genres'].astype(str)\n",
    "movies['genres'] = movies['genres'].apply(lambda x: x.split('|'))\n",
    "movies['genres'] = movies['genres'].apply(lambda x: ' '.join(x))\n",
    "movies['user_combined'] = movies['genres']"
   ]
  },
  {
   "cell_type": "code",
   "execution_count": 39,
   "metadata": {},
   "outputs": [],
   "source": [
    "# for index, row in user_rated_movies.iterrows():\n",
    "#     # Odbacivanje filmova sa niskim ocenama (npr ocjene ispod 3.5)\n",
    "#     if row['rating'] > 3:\n",
    "#       movies.at[row['movieId'], 'user_combined'] += f\" {row['rating']}\"\n",
    "\n",
    "# movies.to_csv('./podaci/movie_3.csv', index=False)"
   ]
  },
  {
   "cell_type": "code",
   "execution_count": 40,
   "metadata": {},
   "outputs": [],
   "source": [
    "# Inicijalizacija TF-IDF vektora\n",
    "tfidf_vectorizer = TfidfVectorizer(stop_words='english', analyzer='word')\n",
    "tfidf_matrix = tfidf_vectorizer.fit_transform(movies['user_combined'])"
   ]
  },
  {
   "cell_type": "code",
   "execution_count": 41,
   "metadata": {},
   "outputs": [
    {
     "name": "stdout",
     "output_type": "stream",
     "text": [
      "Riječnik sa indeksima:\n",
      "['action' 'adventure' 'animation' 'children' 'comedy' 'crime'\n",
      " 'documentary' 'drama' 'fantasy' 'fi' 'film' 'genres' 'horror' 'imax'\n",
      " 'listed' 'musical' 'mystery' 'noir' 'romance' 'sci' 'thriller' 'war'\n",
      " 'western']\n"
     ]
    }
   ],
   "source": [
    "feature_names = tfidf_vectorizer.get_feature_names_out()\n",
    "print(\"Riječnik sa indeksima:\")\n",
    "print(feature_names, sep=\", \")"
   ]
  },
  {
   "cell_type": "code",
   "execution_count": 42,
   "metadata": {},
   "outputs": [],
   "source": [
    "# Računanje sličnosti između filmova pomoću kosinusne sličnosti\n",
    "cosine_similarities = linear_kernel(tfidf_matrix, tfidf_matrix)"
   ]
  },
  {
   "cell_type": "code",
   "execution_count": 43,
   "metadata": {},
   "outputs": [],
   "source": [
    "# Funkcija za generiranje preporuka\n",
    "def get_movie_recommendations(user_id):\n",
    "    # Filmovi koje je korisnik već ocijenio\n",
    "    user_movies_ratings = user_rated_movies['title'].tolist()\n",
    "    print(f\"Visoko ocijenjeni filmovi korisnika ID {user_id}:\")\n",
    "    print(user_movies_ratings, sep=\", \")\n",
    "\n",
    "    recommended_movies = []\n",
    "\n",
    "    # Računanje srednjih vrijednosti ocjena po žanru za korisnika\n",
    "    genre_avg_ratings = user_rated_movies.groupby('genres')['rating'].mean()\n",
    "\n",
    "    # Iteriranje kroz ocijenjene filmove korisnika\n",
    "    for movie_title in user_movies_ratings:\n",
    "        movie_index = movies.index[movies['title'] == movie_title].tolist()[0]\n",
    "        sim_scores = list(enumerate(cosine_similarities[movie_index]))\n",
    "        sim_scores = sorted(sim_scores, key=lambda x: x[1], reverse=True)\n",
    "        sim_scores = sim_scores[1:11]  # Top 10 sličnih filmova (prvi će biti sam film)\n",
    "\n",
    "        # Računanje ponderisane sličnosti srednjom vrijednosti ocjene po žanru\n",
    "        weighted_sim_scores = []\n",
    "        for i in range(len(sim_scores)):\n",
    "            genre = movies['genres'].iloc[sim_scores[i][0]]\n",
    "            genre_avg_rating = genre_avg_ratings.get(genre, 0)\n",
    "            weighted_similarity = sim_scores[i][1] * genre_avg_rating\n",
    "            weighted_sim_scores.append((sim_scores[i][0], weighted_similarity))\n",
    "\n",
    "        weighted_sim_scores = sorted(weighted_sim_scores, key=lambda x: x[1], reverse=True)\n",
    "\n",
    "        # Dodavanje preporučenih filmova koji nisu ocijenjeni\n",
    "        for i in range(len(weighted_sim_scores)):\n",
    "            recommended_movie_title = movies['title'].iloc[weighted_sim_scores[i][0]]\n",
    "            recommended_movie_genres = movies['genres'].iloc[sim_scores[i][0]]\n",
    "            if recommended_movie_title not in user_rated_movies:\n",
    "                recommended_movies.append((recommended_movie_title, recommended_movie_genres))\n",
    "    \n",
    "    return recommended_movies[:10]  # Vracanje prvih 10 preporučenih filmova"
   ]
  },
  {
   "cell_type": "code",
   "execution_count": 44,
   "metadata": {},
   "outputs": [
    {
     "name": "stdout",
     "output_type": "stream",
     "text": [
      "Visoko ocijenjeni filmovi korisnika ID 1:\n",
      "['Cinema Paradiso', 'Dracula', 'French Connection, The', 'Tron']\n",
      "Preporuke za korisnika sa ID 1:\n",
      "1. Othello (Drama)\n",
      "2. Dangerous Minds (Drama)\n",
      "3. Cry, the Beloved Country (Drama)\n",
      "4. Restoration (Drama)\n",
      "5. Georgia (Drama)\n",
      "6. Home for the Holidays (Drama)\n",
      "7. Mr. Holland's Opus (Drama)\n",
      "8. Two Bits (Drama)\n",
      "9. Journey of August King, The (Drama)\n",
      "10. Margaret's Museum (Drama)\n"
     ]
    }
   ],
   "source": [
    "# Generiranje preporuka za određenog korisnika\n",
    "recommended_movies = get_movie_recommendations(user_id)\n",
    "\n",
    "print(f\"Preporuke za korisnika sa ID {user_id}:\")\n",
    "for i, (title, genres) in enumerate(recommended_movies):\n",
    "    print(f\"{i + 1}. {title} ({genres})\")"
   ]
  }
 ],
 "metadata": {
  "kernelspec": {
   "display_name": "Python 3",
   "language": "python",
   "name": "python3"
  },
  "language_info": {
   "codemirror_mode": {
    "name": "ipython",
    "version": 3
   },
   "file_extension": ".py",
   "mimetype": "text/x-python",
   "name": "python",
   "nbconvert_exporter": "python",
   "pygments_lexer": "ipython3",
   "version": "3.10.0"
  }
 },
 "nbformat": 4,
 "nbformat_minor": 2
}
