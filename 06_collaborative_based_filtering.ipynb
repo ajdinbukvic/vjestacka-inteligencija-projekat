{
 "cells": [
  {
   "cell_type": "code",
   "execution_count": 2,
   "metadata": {},
   "outputs": [],
   "source": [
    "from surprise import Dataset, Reader, SVD, KNNBasic\n",
    "from surprise.model_selection import train_test_split\n",
    "import pandas as pd"
   ]
  },
  {
   "cell_type": "code",
   "execution_count": 3,
   "metadata": {},
   "outputs": [],
   "source": [
    "movies = pd.read_csv('./podaci/movie.csv')\n",
    "ratings = pd.read_csv('./podaci/ratings_small.csv')"
   ]
  },
  {
   "cell_type": "code",
   "execution_count": 4,
   "metadata": {},
   "outputs": [],
   "source": [
    "reader = Reader(rating_scale=(1, 5))\n",
    "data = Dataset.load_from_df(ratings[['userId', 'movieId', 'rating']], reader)"
   ]
  },
  {
   "cell_type": "code",
   "execution_count": 5,
   "metadata": {},
   "outputs": [],
   "source": [
    "# Podijela podataka na skup za treniranje i skup za testiranje\n",
    "trainset, testset = train_test_split(data, test_size=0.2, random_state=42)"
   ]
  },
  {
   "cell_type": "code",
   "execution_count": 6,
   "metadata": {},
   "outputs": [
    {
     "data": {
      "text/plain": [
       "<surprise.prediction_algorithms.matrix_factorization.SVD at 0x1dcaed74eb0>"
      ]
     },
     "execution_count": 6,
     "metadata": {},
     "output_type": "execute_result"
    }
   ],
   "source": [
    "# Inicijalizacija i treniranje SVD modela\n",
    "svd_model = SVD()\n",
    "svd_model.fit(trainset)"
   ]
  },
  {
   "cell_type": "code",
   "execution_count": 7,
   "metadata": {},
   "outputs": [
    {
     "name": "stdout",
     "output_type": "stream",
     "text": [
      "Computing the msd similarity matrix...\n",
      "Done computing similarity matrix.\n"
     ]
    },
    {
     "data": {
      "text/plain": [
       "<surprise.prediction_algorithms.knns.KNNBasic at 0x1dcaed75c90>"
      ]
     },
     "execution_count": 7,
     "metadata": {},
     "output_type": "execute_result"
    }
   ],
   "source": [
    "# Inicijalizacija i treniranje KNN modela\n",
    "knn_model = KNNBasic(sim_options={'user_based': True})  # user_based postavljen na True za sustav preporuke temeljen na korisnicima\n",
    "knn_model.fit(trainset)"
   ]
  },
  {
   "cell_type": "code",
   "execution_count": 8,
   "metadata": {},
   "outputs": [],
   "source": [
    "# Funkcija za preporuku filmova na temelju treniranog SVD modela\n",
    "def recommend_movies_svd_surprise(user_id, model, top_n=10):\n",
    "    # Dohvaćanje filmova koje korisnik nije ocijenio\n",
    "    user_rated_movies = set(ratings[ratings['userId'] == user_id]['movieId'])\n",
    "    all_movies = set(ratings['movieId'])\n",
    "    unrated_movies = list(all_movies - user_rated_movies)\n",
    "\n",
    "    # Generiranje predikcija za sve neocijenjene filmove\n",
    "    predictions = [model.predict(user_id, movie_id) for movie_id in unrated_movies]\n",
    "\n",
    "    # Sortiranje predikcija prema ocjenama\n",
    "    sorted_predictions = sorted(predictions, key=lambda x: x.est, reverse=True)\n",
    "\n",
    "    # Stvaranje DataFrame-a s preporučenim filmovima\n",
    "    recommended_movies_info = pd.DataFrame(columns=['movieId', 'title', 'genres', 'est'])\n",
    "\n",
    "    for prediction in sorted_predictions[:top_n]:\n",
    "        movie_info = movies[movies['movieId'] == prediction.iid][['movieId', 'title', 'genres']]\n",
    "        movie_info['est'] = prediction.est\n",
    "        recommended_movies_info = pd.concat([recommended_movies_info, movie_info], ignore_index=True)\n",
    "\n",
    "    return recommended_movies_info[['movieId', 'title', 'genres', 'est']]"
   ]
  },
  {
   "cell_type": "code",
   "execution_count": 9,
   "metadata": {},
   "outputs": [],
   "source": [
    "# Funkcija za preporuku filmova na temelju treniranog KNN modela\n",
    "def recommend_movies_knn_surprise(user_id, model, top_n=10):\n",
    "    # Dohvaćanje filmova koje korisnik nije ocijenio\n",
    "    user_rated_movies = set(ratings[ratings['userId'] == user_id]['movieId'])\n",
    "    all_movies = set(ratings['movieId'])\n",
    "    unrated_movies = list(all_movies - user_rated_movies)\n",
    "\n",
    "    # Generiranje preporuka za korisnika\n",
    "    recommendations = model.get_neighbors(user_id, k=top_n)\n",
    "\n",
    "    # Prikazivanje informacija o preporučenim filmovima\n",
    "    recommended_movies_info = movies[movies['movieId'].isin(recommendations)][['movieId', 'title', 'genres']]\n",
    "\n",
    "    return recommended_movies_info"
   ]
  },
  {
   "cell_type": "code",
   "execution_count": 10,
   "metadata": {},
   "outputs": [],
   "source": [
    "# Primjer korištenja\n",
    "user_id_to_recommend = 600  # Postavite željeni ID korisnika"
   ]
  },
  {
   "cell_type": "code",
   "execution_count": 35,
   "metadata": {},
   "outputs": [
    {
     "name": "stderr",
     "output_type": "stream",
     "text": [
      "C:\\Users\\DT User3\\AppData\\Local\\Temp\\ipykernel_8004\\4120173565.py:20: FutureWarning: The behavior of DataFrame concatenation with empty or all-NA entries is deprecated. In a future version, this will no longer exclude empty or all-NA columns when determining the result dtypes. To retain the old behavior, exclude the relevant entries before the concat operation.\n",
      "  recommended_movies_info = pd.concat([recommended_movies_info, movie_info], ignore_index=True)\n"
     ]
    }
   ],
   "source": [
    "recommendations_svd_surprise = recommend_movies_svd_surprise(user_id_to_recommend, svd_model)\n",
    "recommendations_data_svd = pd.DataFrame(recommendations_svd_surprise)"
   ]
  },
  {
   "cell_type": "code",
   "execution_count": 36,
   "metadata": {},
   "outputs": [],
   "source": [
    "recommendations_knn_surprise = recommend_movies_knn_surprise(user_id_to_recommend, knn_model)\n",
    "recommendations_data_knn = pd.DataFrame(recommendations_knn_surprise)"
   ]
  },
  {
   "cell_type": "code",
   "execution_count": 37,
   "metadata": {},
   "outputs": [],
   "source": [
    "# Ispis preporučenih filmova\n",
    "def display_recommendations(recommendations_data):\n",
    "  for _, row in recommendations_data.iterrows():\n",
    "      movie_id = int(row['movieId'])\n",
    "      title = row['title']\n",
    "      genres = row['genres']\n",
    "      print(f\"ID: {movie_id}, Naslov: {title} ({genres})\")"
   ]
  },
  {
   "cell_type": "code",
   "execution_count": 38,
   "metadata": {},
   "outputs": [
    {
     "name": "stdout",
     "output_type": "stream",
     "text": [
      "ID: 6016, Naslov: City of God (Cidade de Deus) (2002) (Action|Adventure|Crime|Drama|Thriller)\n",
      "ID: 1221, Naslov: Godfather: Part II, The (1974) (Crime|Drama)\n",
      "ID: 2542, Naslov: Lock, Stock & Two Smoking Barrels (1998) (Comedy|Crime|Thriller)\n",
      "ID: 318, Naslov: Shawshank Redemption, The (1994) (Crime|Drama)\n",
      "ID: 858, Naslov: Godfather, The (1972) (Crime|Drama)\n",
      "ID: 1212, Naslov: Third Man, The (1949) (Film-Noir|Mystery|Thriller)\n",
      "ID: 50, Naslov: Usual Suspects, The (1995) (Crime|Mystery|Thriller)\n",
      "ID: 1213, Naslov: Goodfellas (1990) (Crime|Drama)\n",
      "ID: 2329, Naslov: American History X (1998) (Crime|Drama)\n",
      "ID: 922, Naslov: Sunset Blvd. (a.k.a. Sunset Boulevard) (1950) (Drama|Film-Noir|Romance)\n"
     ]
    }
   ],
   "source": [
    "display_recommendations(recommendations_data_svd)"
   ]
  },
  {
   "cell_type": "code",
   "execution_count": 39,
   "metadata": {},
   "outputs": [
    {
     "name": "stdout",
     "output_type": "stream",
     "text": [
      "ID: 6, Naslov: Heat (1995) (Action|Crime|Thriller)\n",
      "ID: 68, Naslov: French Twist (Gazon maudit) (1995) (Comedy|Romance)\n",
      "ID: 108, Naslov: Catwalk (1996) (Documentary)\n",
      "ID: 136, Naslov: From the Journals of Jean Seberg (1995) (Documentary)\n",
      "ID: 186, Naslov: Nine Months (1995) (Comedy|Romance)\n",
      "ID: 203, Naslov: To Wong Foo, Thanks for Everything! Julie Newmar (1995) (Comedy)\n",
      "ID: 217, Naslov: Babysitter, The (1995) (Drama|Thriller)\n",
      "ID: 263, Naslov: Ladybird Ladybird (1994) (Drama)\n",
      "ID: 274, Naslov: Man of the House (1995) (Comedy)\n",
      "ID: 279, Naslov: My Family (1995) (Drama)\n"
     ]
    }
   ],
   "source": [
    "display_recommendations(recommendations_data_knn)"
   ]
  },
  {
   "cell_type": "code",
   "execution_count": 43,
   "metadata": {},
   "outputs": [],
   "source": [
    "from sklearn.metrics import mean_squared_error\n",
    "from surprise.model_selection import cross_validate\n",
    "import numpy as np"
   ]
  },
  {
   "cell_type": "code",
   "execution_count": 44,
   "metadata": {},
   "outputs": [],
   "source": [
    "# Funkcija za preporuku filmova na temelju treniranog modela\n",
    "def recommend_and_evaluate(model, user_id, top_n=10):\n",
    "    # Preporuka\n",
    "    recommendations = []\n",
    "    if isinstance(model, SVD):\n",
    "        recommendations = recommend_movies_svd_surprise(user_id, model, top_n)\n",
    "    elif isinstance(model, KNNBasic):\n",
    "        recommendations = recommend_movies_knn_surprise(user_id, model, top_n)\n",
    "    else:\n",
    "        raise ValueError(\"Nepodržani model\")\n",
    "\n",
    "    # Evaluacija unakrsnom validacijom\n",
    "    results = cross_validate(model, data, measures=['MAE', 'RMSE'], cv=5, verbose=False)\n",
    "\n",
    "    # Ispis rezultata unakrsne validacije\n",
    "    print(f'Rezultati unakrsne validacije za model {model.__class__.__name__}:')\n",
    "    print(f\"MAE: {np.mean(results['test_mae']):.4f}\")\n",
    "    print(f\"RMSE: {np.mean(results['test_rmse']):.4f}\")\n",
    "\n",
    "    # Evaluacija preporuka\n",
    "    predictions = [model.predict(user_id, movie_id).est for movie_id in recommendations['movieId']]\n",
    "    true_ratings = [\n",
    "        float(ratings.loc[(ratings['userId'] == user_id) & (ratings['movieId'] == movie_id), 'rating'].iloc[0])\n",
    "        if ratings[(ratings['userId'] == user_id) & (ratings['movieId'] == movie_id)].shape[0] > 0\n",
    "        else 0  # Ako nema ocjene, postavi na 0\n",
    "        for movie_id in recommendations['movieId']\n",
    "    ]\n",
    "\n",
    "    # Ispis evaluacije preporuka\n",
    "    mse = mean_squared_error(true_ratings, predictions)\n",
    "    print(f'MSE za korisnika {user_id}: {mse:.4f}')"
   ]
  },
  {
   "cell_type": "code",
   "execution_count": 45,
   "metadata": {},
   "outputs": [
    {
     "name": "stderr",
     "output_type": "stream",
     "text": [
      "C:\\Users\\DT User3\\AppData\\Local\\Temp\\ipykernel_8004\\4120173565.py:20: FutureWarning: The behavior of DataFrame concatenation with empty or all-NA entries is deprecated. In a future version, this will no longer exclude empty or all-NA columns when determining the result dtypes. To retain the old behavior, exclude the relevant entries before the concat operation.\n",
      "  recommended_movies_info = pd.concat([recommended_movies_info, movie_info], ignore_index=True)\n"
     ]
    },
    {
     "name": "stdout",
     "output_type": "stream",
     "text": [
      "Rezultati unakrsne validacije za model SVD:\n",
      "MAE: 0.6912\n",
      "RMSE: 0.8977\n",
      "MSE za korisnika 600: 19.4272\n"
     ]
    }
   ],
   "source": [
    "# Unakrsna validacija za SVD model\n",
    "recommend_and_evaluate(svd_model, user_id_to_recommend)"
   ]
  },
  {
   "cell_type": "code",
   "execution_count": 46,
   "metadata": {},
   "outputs": [
    {
     "name": "stdout",
     "output_type": "stream",
     "text": [
      "Computing the msd similarity matrix...\n",
      "Done computing similarity matrix.\n",
      "Computing the msd similarity matrix...\n",
      "Done computing similarity matrix.\n",
      "Computing the msd similarity matrix...\n",
      "Done computing similarity matrix.\n",
      "Computing the msd similarity matrix...\n",
      "Done computing similarity matrix.\n",
      "Computing the msd similarity matrix...\n",
      "Done computing similarity matrix.\n",
      "Rezultati unakrsne validacije za model KNNBasic:\n",
      "MAE: 0.7438\n",
      "RMSE: 0.9680\n",
      "MSE za korisnika 600: 9.7546\n"
     ]
    }
   ],
   "source": [
    "# Unakrsna validacija za KNN model\n",
    "recommend_and_evaluate(knn_model, user_id_to_recommend)"
   ]
  },
  {
   "cell_type": "code",
   "execution_count": 47,
   "metadata": {},
   "outputs": [],
   "source": [
    "from surprise import KNNWithMeans\n",
    "from surprise import accuracy"
   ]
  },
  {
   "cell_type": "code",
   "execution_count": 48,
   "metadata": {},
   "outputs": [],
   "source": [
    "movie_df = pd.read_csv('./podaci/movie.csv')\n",
    "\n",
    "# k Nearest Neighbour\n",
    "similarity = {\n",
    "    \"name\": \"cosine\",\n",
    "    \"user_based\": False,  # item-based similarity\n",
    "}\n",
    "algo_KNN = KNNWithMeans(sim_options = similarity)\n",
    "\n",
    "# SVD\n",
    "algo_SVD = SVD()"
   ]
  },
  {
   "cell_type": "code",
   "execution_count": 49,
   "metadata": {},
   "outputs": [
    {
     "name": "stderr",
     "output_type": "stream",
     "text": [
      "C:\\Users\\DT User3\\AppData\\Local\\Temp\\ipykernel_8004\\550821577.py:1: FutureWarning: The provided callable <function mean at 0x000001DCBD1CD630> is currently using DataFrameGroupBy.mean. In a future version of pandas, the provided callable will be used directly. To keep current behavior pass the string \"mean\" instead.\n",
      "  movie_rating_set = pd.crosstab(index = ratings.userId, columns = ratings.movieId, values = ratings.rating, aggfunc = np.mean)\n"
     ]
    }
   ],
   "source": [
    "movie_rating_set = pd.crosstab(index = ratings.userId, columns = ratings.movieId, values = ratings.rating, aggfunc = np.mean)"
   ]
  },
  {
   "cell_type": "code",
   "execution_count": 50,
   "metadata": {},
   "outputs": [],
   "source": [
    "# load df into Surprise Reader object\n",
    "reader = Reader(rating_scale = (0,5))\n",
    "rating_df = Dataset.load_from_df(ratings[['userId', 'movieId', 'rating']], reader)"
   ]
  },
  {
   "cell_type": "code",
   "execution_count": 51,
   "metadata": {},
   "outputs": [
    {
     "name": "stdout",
     "output_type": "stream",
     "text": [
      "Computing the cosine similarity matrix...\n",
      "Done computing similarity matrix.\n",
      "Computing the cosine similarity matrix...\n",
      "Done computing similarity matrix.\n",
      "Computing the cosine similarity matrix...\n",
      "Done computing similarity matrix.\n",
      "Computing the cosine similarity matrix...\n",
      "Done computing similarity matrix.\n",
      "Computing the cosine similarity matrix...\n",
      "Done computing similarity matrix.\n",
      "Evaluating RMSE, MAE of algorithm KNNWithMeans on 5 split(s).\n",
      "\n",
      "                  Fold 1  Fold 2  Fold 3  Fold 4  Fold 5  Mean    Std     \n",
      "RMSE (testset)    0.9318  0.9302  0.9201  0.9243  0.9281  0.9269  0.0042  \n",
      "MAE (testset)     0.7146  0.7127  0.7052  0.7068  0.7111  0.7101  0.0035  \n",
      "Fit time          5.32    5.25    6.10    5.60    5.64    5.58    0.30    \n",
      "Test time         4.22    4.23    4.59    4.47    4.34    4.37    0.14    \n"
     ]
    }
   ],
   "source": [
    "cross_validate_KNN = cross_validate(algo_KNN, rating_df, measures=['RMSE', 'MAE'], cv=5, verbose=True)"
   ]
  },
  {
   "cell_type": "code",
   "execution_count": 52,
   "metadata": {},
   "outputs": [
    {
     "name": "stdout",
     "output_type": "stream",
     "text": [
      "Evaluating RMSE, MAE of algorithm SVD on 5 split(s).\n",
      "\n",
      "                  Fold 1  Fold 2  Fold 3  Fold 4  Fold 5  Mean    Std     \n",
      "RMSE (testset)    0.8962  0.9143  0.8875  0.8872  0.9019  0.8974  0.0101  \n",
      "MAE (testset)     0.6903  0.7029  0.6854  0.6833  0.6948  0.6913  0.0070  \n",
      "Fit time          0.89    0.89    0.96    0.85    0.83    0.88    0.05    \n",
      "Test time         0.13    0.18    0.12    0.10    0.09    0.13    0.03    \n"
     ]
    }
   ],
   "source": [
    "cross_validate_SVD = cross_validate(algo_SVD, rating_df, measures=['RMSE', 'MAE'], cv=5, verbose=True)"
   ]
  },
  {
   "cell_type": "code",
   "execution_count": 53,
   "metadata": {},
   "outputs": [],
   "source": [
    "# define train test function\n",
    "def train_test_algo(algo, label):\n",
    "    training_set, testing_set = train_test_split(rating_df, test_size = 0.2)\n",
    "    algo.fit(training_set)\n",
    "    test_output = algo.test(testing_set)\n",
    "    test_df = pd.DataFrame(test_output)\n",
    "    \n",
    "    print(\"RMSE -\",label, accuracy.rmse(test_output, verbose = False))\n",
    "    print(\"MAE -\", label, accuracy.mae(test_output, verbose=False))\n",
    "    print(\"MSE -\", label, accuracy.mse(test_output, verbose=False))\n",
    "    \n",
    "    return test_df"
   ]
  },
  {
   "cell_type": "code",
   "execution_count": 54,
   "metadata": {},
   "outputs": [
    {
     "name": "stdout",
     "output_type": "stream",
     "text": [
      "Computing the cosine similarity matrix...\n",
      "Done computing similarity matrix.\n",
      "RMSE - algo_KNN 0.9306864728287642\n",
      "MAE - algo_KNN 0.7122355378981291\n",
      "MSE - algo_KNN 0.866177310706446\n",
      "   uid    iid  r_ui       est                                    details\n",
      "0  547  39307   2.5  3.829056  {'actual_k': 40, 'was_impossible': False}\n",
      "1  452   3809   3.0  2.725402  {'actual_k': 40, 'was_impossible': False}\n",
      "2  102   1036   4.0  4.199759  {'actual_k': 40, 'was_impossible': False}\n",
      "3  184    364   5.0  3.871193  {'actual_k': 38, 'was_impossible': False}\n",
      "4  472   7070   3.0  4.645791  {'actual_k': 40, 'was_impossible': False}\n"
     ]
    }
   ],
   "source": [
    "train_test_KNN = train_test_algo(algo_KNN, \"algo_KNN\")\n",
    "print(train_test_KNN.head())"
   ]
  },
  {
   "cell_type": "code",
   "execution_count": 55,
   "metadata": {},
   "outputs": [
    {
     "name": "stdout",
     "output_type": "stream",
     "text": [
      "RMSE - algo_SVD 0.8912553725652782\n",
      "MAE - algo_SVD 0.6878460760914464\n",
      "MSE - algo_SVD 0.7943361391264729\n",
      "   uid   iid  r_ui       est                    details\n",
      "0   30  2611   5.0  3.455180  {'was_impossible': False}\n",
      "1  268  1517   3.5  3.761342  {'was_impossible': False}\n",
      "2  640  1476   3.0  3.773878  {'was_impossible': False}\n",
      "3  547  1282   5.0  3.720801  {'was_impossible': False}\n",
      "4   56  3079   4.0  3.715933  {'was_impossible': False}\n"
     ]
    }
   ],
   "source": [
    "train_test_SVD = train_test_algo(algo_SVD, \"algo_SVD\")\n",
    "print(train_test_SVD.head())"
   ]
  },
  {
   "cell_type": "code",
   "execution_count": 56,
   "metadata": {},
   "outputs": [],
   "source": [
    "def prediction(algo, users_K):\n",
    "    pred_list = []\n",
    "    for userId in range(1,users_K):\n",
    "        for movieId in range(1,9067):\n",
    "            rating = algo.predict(userId, movieId).est\n",
    "            pred_list.append([userId, movieId, rating])\n",
    "    pred_df = pd.DataFrame(pred_list, columns = ['userId', 'movieId', 'rating'])\n",
    "    return pred_df"
   ]
  },
  {
   "cell_type": "code",
   "execution_count": 57,
   "metadata": {},
   "outputs": [],
   "source": [
    "def top_recommendations(pred_df, top_N):\n",
    "    recommended_movie = pd.merge(pred_df, movie_df, how='inner', left_on='movieId', right_on='movieId')\n",
    "    sorted_df = recommended_movie.groupby(('userId'), as_index = False).apply(lambda x: x.sort_values(['rating'], ascending = False)).reset_index(drop=True)\n",
    "    top_recommended_movies = sorted_df.groupby('userId').head(top_N)\n",
    "    return sorted_df, top_recommended_movies"
   ]
  },
  {
   "cell_type": "code",
   "execution_count": 62,
   "metadata": {},
   "outputs": [],
   "source": [
    "pred_SVD = prediction(algo_SVD, 5)\n",
    "recommended_movies_SVD, top_recommended_movies_SVD = top_recommendations(pred_SVD, 5)"
   ]
  },
  {
   "cell_type": "code",
   "execution_count": 63,
   "metadata": {},
   "outputs": [
    {
     "data": {
      "text/html": [
       "<div>\n",
       "<style scoped>\n",
       "    .dataframe tbody tr th:only-of-type {\n",
       "        vertical-align: middle;\n",
       "    }\n",
       "\n",
       "    .dataframe tbody tr th {\n",
       "        vertical-align: top;\n",
       "    }\n",
       "\n",
       "    .dataframe thead th {\n",
       "        text-align: right;\n",
       "    }\n",
       "</style>\n",
       "<table border=\"1\" class=\"dataframe\">\n",
       "  <thead>\n",
       "    <tr style=\"text-align: right;\">\n",
       "      <th></th>\n",
       "      <th>userId</th>\n",
       "      <th>movieId</th>\n",
       "      <th>rating</th>\n",
       "      <th>title</th>\n",
       "      <th>genres</th>\n",
       "    </tr>\n",
       "  </thead>\n",
       "  <tbody>\n",
       "    <tr>\n",
       "      <th>0</th>\n",
       "      <td>1</td>\n",
       "      <td>318</td>\n",
       "      <td>3.743975</td>\n",
       "      <td>Shawshank Redemption, The (1994)</td>\n",
       "      <td>Crime|Drama</td>\n",
       "    </tr>\n",
       "    <tr>\n",
       "      <th>1</th>\n",
       "      <td>1</td>\n",
       "      <td>50</td>\n",
       "      <td>3.630215</td>\n",
       "      <td>Usual Suspects, The (1995)</td>\n",
       "      <td>Crime|Mystery|Thriller</td>\n",
       "    </tr>\n",
       "    <tr>\n",
       "      <th>2</th>\n",
       "      <td>1</td>\n",
       "      <td>4235</td>\n",
       "      <td>3.617579</td>\n",
       "      <td>Amores Perros (Love's a Bitch) (2000)</td>\n",
       "      <td>Drama|Thriller</td>\n",
       "    </tr>\n",
       "    <tr>\n",
       "      <th>3</th>\n",
       "      <td>1</td>\n",
       "      <td>969</td>\n",
       "      <td>3.587613</td>\n",
       "      <td>African Queen, The (1951)</td>\n",
       "      <td>Adventure|Comedy|Romance|War</td>\n",
       "    </tr>\n",
       "    <tr>\n",
       "      <th>4</th>\n",
       "      <td>1</td>\n",
       "      <td>1198</td>\n",
       "      <td>3.584458</td>\n",
       "      <td>Raiders of the Lost Ark (Indiana Jones and the...</td>\n",
       "      <td>Action|Adventure</td>\n",
       "    </tr>\n",
       "    <tr>\n",
       "      <th>8337</th>\n",
       "      <td>2</td>\n",
       "      <td>1136</td>\n",
       "      <td>4.590324</td>\n",
       "      <td>Monty Python and the Holy Grail (1975)</td>\n",
       "      <td>Adventure|Comedy|Fantasy</td>\n",
       "    </tr>\n",
       "    <tr>\n",
       "      <th>8338</th>\n",
       "      <td>2</td>\n",
       "      <td>1221</td>\n",
       "      <td>4.537162</td>\n",
       "      <td>Godfather: Part II, The (1974)</td>\n",
       "      <td>Crime|Drama</td>\n",
       "    </tr>\n",
       "    <tr>\n",
       "      <th>8339</th>\n",
       "      <td>2</td>\n",
       "      <td>969</td>\n",
       "      <td>4.517903</td>\n",
       "      <td>African Queen, The (1951)</td>\n",
       "      <td>Adventure|Comedy|Romance|War</td>\n",
       "    </tr>\n",
       "    <tr>\n",
       "      <th>8340</th>\n",
       "      <td>2</td>\n",
       "      <td>4235</td>\n",
       "      <td>4.516731</td>\n",
       "      <td>Amores Perros (Love's a Bitch) (2000)</td>\n",
       "      <td>Drama|Thriller</td>\n",
       "    </tr>\n",
       "    <tr>\n",
       "      <th>8341</th>\n",
       "      <td>2</td>\n",
       "      <td>858</td>\n",
       "      <td>4.504115</td>\n",
       "      <td>Godfather, The (1972)</td>\n",
       "      <td>Crime|Drama</td>\n",
       "    </tr>\n",
       "    <tr>\n",
       "      <th>16674</th>\n",
       "      <td>3</td>\n",
       "      <td>318</td>\n",
       "      <td>4.399658</td>\n",
       "      <td>Shawshank Redemption, The (1994)</td>\n",
       "      <td>Crime|Drama</td>\n",
       "    </tr>\n",
       "    <tr>\n",
       "      <th>16675</th>\n",
       "      <td>3</td>\n",
       "      <td>356</td>\n",
       "      <td>4.265045</td>\n",
       "      <td>Forrest Gump (1994)</td>\n",
       "      <td>Comedy|Drama|Romance|War</td>\n",
       "    </tr>\n",
       "    <tr>\n",
       "      <th>16676</th>\n",
       "      <td>3</td>\n",
       "      <td>2959</td>\n",
       "      <td>4.230110</td>\n",
       "      <td>Fight Club (1999)</td>\n",
       "      <td>Action|Crime|Drama|Thriller</td>\n",
       "    </tr>\n",
       "    <tr>\n",
       "      <th>16677</th>\n",
       "      <td>3</td>\n",
       "      <td>969</td>\n",
       "      <td>4.217298</td>\n",
       "      <td>African Queen, The (1951)</td>\n",
       "      <td>Adventure|Comedy|Romance|War</td>\n",
       "    </tr>\n",
       "    <tr>\n",
       "      <th>16678</th>\n",
       "      <td>3</td>\n",
       "      <td>296</td>\n",
       "      <td>4.173989</td>\n",
       "      <td>Pulp Fiction (1994)</td>\n",
       "      <td>Comedy|Crime|Drama|Thriller</td>\n",
       "    </tr>\n",
       "    <tr>\n",
       "      <th>25011</th>\n",
       "      <td>4</td>\n",
       "      <td>1912</td>\n",
       "      <td>5.000000</td>\n",
       "      <td>Out of Sight (1998)</td>\n",
       "      <td>Comedy|Crime|Drama|Romance|Thriller</td>\n",
       "    </tr>\n",
       "    <tr>\n",
       "      <th>25012</th>\n",
       "      <td>4</td>\n",
       "      <td>296</td>\n",
       "      <td>5.000000</td>\n",
       "      <td>Pulp Fiction (1994)</td>\n",
       "      <td>Comedy|Crime|Drama|Thriller</td>\n",
       "    </tr>\n",
       "    <tr>\n",
       "      <th>25013</th>\n",
       "      <td>4</td>\n",
       "      <td>1221</td>\n",
       "      <td>5.000000</td>\n",
       "      <td>Godfather: Part II, The (1974)</td>\n",
       "      <td>Crime|Drama</td>\n",
       "    </tr>\n",
       "    <tr>\n",
       "      <th>25014</th>\n",
       "      <td>4</td>\n",
       "      <td>1394</td>\n",
       "      <td>5.000000</td>\n",
       "      <td>Raising Arizona (1987)</td>\n",
       "      <td>Comedy</td>\n",
       "    </tr>\n",
       "    <tr>\n",
       "      <th>25015</th>\n",
       "      <td>4</td>\n",
       "      <td>1213</td>\n",
       "      <td>5.000000</td>\n",
       "      <td>Goodfellas (1990)</td>\n",
       "      <td>Crime|Drama</td>\n",
       "    </tr>\n",
       "  </tbody>\n",
       "</table>\n",
       "</div>"
      ],
      "text/plain": [
       "       userId  movieId    rating  \\\n",
       "0           1      318  3.743975   \n",
       "1           1       50  3.630215   \n",
       "2           1     4235  3.617579   \n",
       "3           1      969  3.587613   \n",
       "4           1     1198  3.584458   \n",
       "8337        2     1136  4.590324   \n",
       "8338        2     1221  4.537162   \n",
       "8339        2      969  4.517903   \n",
       "8340        2     4235  4.516731   \n",
       "8341        2      858  4.504115   \n",
       "16674       3      318  4.399658   \n",
       "16675       3      356  4.265045   \n",
       "16676       3     2959  4.230110   \n",
       "16677       3      969  4.217298   \n",
       "16678       3      296  4.173989   \n",
       "25011       4     1912  5.000000   \n",
       "25012       4      296  5.000000   \n",
       "25013       4     1221  5.000000   \n",
       "25014       4     1394  5.000000   \n",
       "25015       4     1213  5.000000   \n",
       "\n",
       "                                                   title  \\\n",
       "0                       Shawshank Redemption, The (1994)   \n",
       "1                             Usual Suspects, The (1995)   \n",
       "2                  Amores Perros (Love's a Bitch) (2000)   \n",
       "3                              African Queen, The (1951)   \n",
       "4      Raiders of the Lost Ark (Indiana Jones and the...   \n",
       "8337              Monty Python and the Holy Grail (1975)   \n",
       "8338                      Godfather: Part II, The (1974)   \n",
       "8339                           African Queen, The (1951)   \n",
       "8340               Amores Perros (Love's a Bitch) (2000)   \n",
       "8341                               Godfather, The (1972)   \n",
       "16674                   Shawshank Redemption, The (1994)   \n",
       "16675                                Forrest Gump (1994)   \n",
       "16676                                  Fight Club (1999)   \n",
       "16677                          African Queen, The (1951)   \n",
       "16678                                Pulp Fiction (1994)   \n",
       "25011                                Out of Sight (1998)   \n",
       "25012                                Pulp Fiction (1994)   \n",
       "25013                     Godfather: Part II, The (1974)   \n",
       "25014                             Raising Arizona (1987)   \n",
       "25015                                  Goodfellas (1990)   \n",
       "\n",
       "                                    genres  \n",
       "0                              Crime|Drama  \n",
       "1                   Crime|Mystery|Thriller  \n",
       "2                           Drama|Thriller  \n",
       "3             Adventure|Comedy|Romance|War  \n",
       "4                         Action|Adventure  \n",
       "8337              Adventure|Comedy|Fantasy  \n",
       "8338                           Crime|Drama  \n",
       "8339          Adventure|Comedy|Romance|War  \n",
       "8340                        Drama|Thriller  \n",
       "8341                           Crime|Drama  \n",
       "16674                          Crime|Drama  \n",
       "16675             Comedy|Drama|Romance|War  \n",
       "16676          Action|Crime|Drama|Thriller  \n",
       "16677         Adventure|Comedy|Romance|War  \n",
       "16678          Comedy|Crime|Drama|Thriller  \n",
       "25011  Comedy|Crime|Drama|Romance|Thriller  \n",
       "25012          Comedy|Crime|Drama|Thriller  \n",
       "25013                          Crime|Drama  \n",
       "25014                               Comedy  \n",
       "25015                          Crime|Drama  "
      ]
     },
     "execution_count": 63,
     "metadata": {},
     "output_type": "execute_result"
    }
   ],
   "source": [
    "top_recommended_movies_SVD"
   ]
  },
  {
   "cell_type": "code",
   "execution_count": 64,
   "metadata": {},
   "outputs": [],
   "source": [
    "pred_KNN = prediction(algo_KNN, 5)\n",
    "recommended_movies_KNN, top_recommended_movies_KNN = top_recommendations(pred_KNN, 5)"
   ]
  },
  {
   "cell_type": "code",
   "execution_count": 65,
   "metadata": {},
   "outputs": [
    {
     "data": {
      "text/html": [
       "<div>\n",
       "<style scoped>\n",
       "    .dataframe tbody tr th:only-of-type {\n",
       "        vertical-align: middle;\n",
       "    }\n",
       "\n",
       "    .dataframe tbody tr th {\n",
       "        vertical-align: top;\n",
       "    }\n",
       "\n",
       "    .dataframe thead th {\n",
       "        text-align: right;\n",
       "    }\n",
       "</style>\n",
       "<table border=\"1\" class=\"dataframe\">\n",
       "  <thead>\n",
       "    <tr style=\"text-align: right;\">\n",
       "      <th></th>\n",
       "      <th>userId</th>\n",
       "      <th>movieId</th>\n",
       "      <th>rating</th>\n",
       "      <th>title</th>\n",
       "      <th>genres</th>\n",
       "    </tr>\n",
       "  </thead>\n",
       "  <tbody>\n",
       "    <tr>\n",
       "      <th>0</th>\n",
       "      <td>1</td>\n",
       "      <td>1819</td>\n",
       "      <td>5.0</td>\n",
       "      <td>Storefront Hitchcock (1997)</td>\n",
       "      <td>Documentary|Musical</td>\n",
       "    </tr>\n",
       "    <tr>\n",
       "      <th>1</th>\n",
       "      <td>1</td>\n",
       "      <td>6769</td>\n",
       "      <td>5.0</td>\n",
       "      <td>Mambo Italiano (2003)</td>\n",
       "      <td>Comedy</td>\n",
       "    </tr>\n",
       "    <tr>\n",
       "      <th>2</th>\n",
       "      <td>1</td>\n",
       "      <td>8699</td>\n",
       "      <td>5.0</td>\n",
       "      <td>Dancing in September (2000)</td>\n",
       "      <td>Drama</td>\n",
       "    </tr>\n",
       "    <tr>\n",
       "      <th>3</th>\n",
       "      <td>1</td>\n",
       "      <td>6369</td>\n",
       "      <td>5.0</td>\n",
       "      <td>Friends and Family (2001)</td>\n",
       "      <td>Comedy</td>\n",
       "    </tr>\n",
       "    <tr>\n",
       "      <th>4</th>\n",
       "      <td>1</td>\n",
       "      <td>5229</td>\n",
       "      <td>5.0</td>\n",
       "      <td>I Think I Do (1997)</td>\n",
       "      <td>Comedy</td>\n",
       "    </tr>\n",
       "    <tr>\n",
       "      <th>8337</th>\n",
       "      <td>2</td>\n",
       "      <td>3757</td>\n",
       "      <td>5.0</td>\n",
       "      <td>Asylum (1972)</td>\n",
       "      <td>Horror</td>\n",
       "    </tr>\n",
       "    <tr>\n",
       "      <th>8338</th>\n",
       "      <td>2</td>\n",
       "      <td>4189</td>\n",
       "      <td>5.0</td>\n",
       "      <td>Greatest Story Ever Told, The (1965)</td>\n",
       "      <td>Drama</td>\n",
       "    </tr>\n",
       "    <tr>\n",
       "      <th>8339</th>\n",
       "      <td>2</td>\n",
       "      <td>2627</td>\n",
       "      <td>5.0</td>\n",
       "      <td>Endurance (1999)</td>\n",
       "      <td>Documentary|Drama</td>\n",
       "    </tr>\n",
       "    <tr>\n",
       "      <th>8340</th>\n",
       "      <td>2</td>\n",
       "      <td>2636</td>\n",
       "      <td>5.0</td>\n",
       "      <td>Mummy's Ghost, The (1944)</td>\n",
       "      <td>Horror</td>\n",
       "    </tr>\n",
       "    <tr>\n",
       "      <th>8341</th>\n",
       "      <td>2</td>\n",
       "      <td>2647</td>\n",
       "      <td>5.0</td>\n",
       "      <td>House of Frankenstein (1944)</td>\n",
       "      <td>Horror</td>\n",
       "    </tr>\n",
       "    <tr>\n",
       "      <th>16674</th>\n",
       "      <td>3</td>\n",
       "      <td>4338</td>\n",
       "      <td>5.0</td>\n",
       "      <td>Twelve O'Clock High (1949)</td>\n",
       "      <td>Drama|War</td>\n",
       "    </tr>\n",
       "    <tr>\n",
       "      <th>16675</th>\n",
       "      <td>3</td>\n",
       "      <td>7081</td>\n",
       "      <td>5.0</td>\n",
       "      <td>I'm No Angel (1933)</td>\n",
       "      <td>Comedy</td>\n",
       "    </tr>\n",
       "    <tr>\n",
       "      <th>16676</th>\n",
       "      <td>3</td>\n",
       "      <td>5301</td>\n",
       "      <td>5.0</td>\n",
       "      <td>Bite the Bullet (1975)</td>\n",
       "      <td>Action|Adventure|Western</td>\n",
       "    </tr>\n",
       "    <tr>\n",
       "      <th>16677</th>\n",
       "      <td>3</td>\n",
       "      <td>7932</td>\n",
       "      <td>5.0</td>\n",
       "      <td>Dark Days (2000)</td>\n",
       "      <td>Documentary</td>\n",
       "    </tr>\n",
       "    <tr>\n",
       "      <th>16678</th>\n",
       "      <td>3</td>\n",
       "      <td>3656</td>\n",
       "      <td>5.0</td>\n",
       "      <td>Lured (1947)</td>\n",
       "      <td>Crime|Film-Noir|Mystery|Thriller</td>\n",
       "    </tr>\n",
       "    <tr>\n",
       "      <th>25011</th>\n",
       "      <td>4</td>\n",
       "      <td>950</td>\n",
       "      <td>5.0</td>\n",
       "      <td>Thin Man, The (1934)</td>\n",
       "      <td>Comedy|Crime</td>\n",
       "    </tr>\n",
       "    <tr>\n",
       "      <th>25012</th>\n",
       "      <td>4</td>\n",
       "      <td>7206</td>\n",
       "      <td>5.0</td>\n",
       "      <td>Mon Oncle (My Uncle) (1958)</td>\n",
       "      <td>Comedy</td>\n",
       "    </tr>\n",
       "    <tr>\n",
       "      <th>25013</th>\n",
       "      <td>4</td>\n",
       "      <td>2820</td>\n",
       "      <td>5.0</td>\n",
       "      <td>Hamlet (1964)</td>\n",
       "      <td>Drama</td>\n",
       "    </tr>\n",
       "    <tr>\n",
       "      <th>25014</th>\n",
       "      <td>4</td>\n",
       "      <td>5324</td>\n",
       "      <td>5.0</td>\n",
       "      <td>Life or Something Like It (2002)</td>\n",
       "      <td>Comedy|Romance</td>\n",
       "    </tr>\n",
       "    <tr>\n",
       "      <th>25015</th>\n",
       "      <td>4</td>\n",
       "      <td>850</td>\n",
       "      <td>5.0</td>\n",
       "      <td>Cyclo (Xich lo) (1995)</td>\n",
       "      <td>Crime|Drama</td>\n",
       "    </tr>\n",
       "  </tbody>\n",
       "</table>\n",
       "</div>"
      ],
      "text/plain": [
       "       userId  movieId  rating                                 title  \\\n",
       "0           1     1819     5.0           Storefront Hitchcock (1997)   \n",
       "1           1     6769     5.0                 Mambo Italiano (2003)   \n",
       "2           1     8699     5.0           Dancing in September (2000)   \n",
       "3           1     6369     5.0             Friends and Family (2001)   \n",
       "4           1     5229     5.0                   I Think I Do (1997)   \n",
       "8337        2     3757     5.0                         Asylum (1972)   \n",
       "8338        2     4189     5.0  Greatest Story Ever Told, The (1965)   \n",
       "8339        2     2627     5.0                      Endurance (1999)   \n",
       "8340        2     2636     5.0             Mummy's Ghost, The (1944)   \n",
       "8341        2     2647     5.0          House of Frankenstein (1944)   \n",
       "16674       3     4338     5.0            Twelve O'Clock High (1949)   \n",
       "16675       3     7081     5.0                   I'm No Angel (1933)   \n",
       "16676       3     5301     5.0                Bite the Bullet (1975)   \n",
       "16677       3     7932     5.0                      Dark Days (2000)   \n",
       "16678       3     3656     5.0                          Lured (1947)   \n",
       "25011       4      950     5.0                  Thin Man, The (1934)   \n",
       "25012       4     7206     5.0           Mon Oncle (My Uncle) (1958)   \n",
       "25013       4     2820     5.0                         Hamlet (1964)   \n",
       "25014       4     5324     5.0      Life or Something Like It (2002)   \n",
       "25015       4      850     5.0                Cyclo (Xich lo) (1995)   \n",
       "\n",
       "                                 genres  \n",
       "0                   Documentary|Musical  \n",
       "1                                Comedy  \n",
       "2                                 Drama  \n",
       "3                                Comedy  \n",
       "4                                Comedy  \n",
       "8337                             Horror  \n",
       "8338                              Drama  \n",
       "8339                  Documentary|Drama  \n",
       "8340                             Horror  \n",
       "8341                             Horror  \n",
       "16674                         Drama|War  \n",
       "16675                            Comedy  \n",
       "16676          Action|Adventure|Western  \n",
       "16677                       Documentary  \n",
       "16678  Crime|Film-Noir|Mystery|Thriller  \n",
       "25011                      Comedy|Crime  \n",
       "25012                            Comedy  \n",
       "25013                             Drama  \n",
       "25014                    Comedy|Romance  \n",
       "25015                       Crime|Drama  "
      ]
     },
     "execution_count": 65,
     "metadata": {},
     "output_type": "execute_result"
    }
   ],
   "source": [
    "top_recommended_movies_KNN"
   ]
  }
 ],
 "metadata": {
  "kernelspec": {
   "display_name": "Python 3",
   "language": "python",
   "name": "python3"
  },
  "language_info": {
   "codemirror_mode": {
    "name": "ipython",
    "version": 3
   },
   "file_extension": ".py",
   "mimetype": "text/x-python",
   "name": "python",
   "nbconvert_exporter": "python",
   "pygments_lexer": "ipython3",
   "version": "3.10.0"
  }
 },
 "nbformat": 4,
 "nbformat_minor": 2
}
