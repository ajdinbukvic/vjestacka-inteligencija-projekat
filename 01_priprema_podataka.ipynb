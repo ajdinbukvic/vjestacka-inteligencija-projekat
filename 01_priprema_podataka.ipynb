{
 "cells": [
  {
   "cell_type": "code",
   "execution_count": 6,
   "metadata": {},
   "outputs": [],
   "source": [
    "import numpy as np\n",
    "import pandas as pd\n",
    "from sklearn.preprocessing import LabelEncoder"
   ]
  },
  {
   "cell_type": "code",
   "execution_count": 7,
   "metadata": {},
   "outputs": [
    {
     "name": "stdout",
     "output_type": "stream",
     "text": [
      "   movieId                               title  \\\n",
      "0        1                    Toy Story (1995)   \n",
      "1        2                      Jumanji (1995)   \n",
      "2        3             Grumpier Old Men (1995)   \n",
      "3        4            Waiting to Exhale (1995)   \n",
      "4        5  Father of the Bride Part II (1995)   \n",
      "\n",
      "                                        genres  \n",
      "0  Adventure|Animation|Children|Comedy|Fantasy  \n",
      "1                   Adventure|Children|Fantasy  \n",
      "2                               Comedy|Romance  \n",
      "3                         Comedy|Drama|Romance  \n",
      "4                                       Comedy  \n",
      "--------------------------------------------------------\n",
      "   userId  movieId            tag            timestamp\n",
      "0      18     4141    Mark Waters  2009-04-24 18:19:40\n",
      "1      65      208      dark hero  2013-05-10 01:41:18\n",
      "2      65      353      dark hero  2013-05-10 01:41:19\n",
      "3      65      521  noir thriller  2013-05-10 01:39:43\n",
      "4      65      592      dark hero  2013-05-10 01:41:18\n",
      "--------------------------------------------------------\n",
      "   userId  movieId  rating            timestamp\n",
      "0       1        2     3.5  2005-04-02 23:53:47\n",
      "1       1       29     3.5  2005-04-02 23:31:16\n",
      "2       1       32     3.5  2005-04-02 23:33:39\n",
      "3       1       47     3.5  2005-04-02 23:32:07\n",
      "4       1       50     3.5  2005-04-02 23:29:40\n"
     ]
    }
   ],
   "source": [
    "movies_df = pd.read_csv('./podaci/movie.csv')\n",
    "tags_df = pd.read_csv('./podaci/tag.csv')\n",
    "ratings_df = pd.read_csv('./podaci/rating.csv')\n",
    "\n",
    "print(movies_df.head())\n",
    "print(\"--------------------------------------------------------\")\n",
    "print(tags_df.head())\n",
    "print(\"--------------------------------------------------------\")\n",
    "print(ratings_df.head())"
   ]
  },
  {
   "cell_type": "code",
   "execution_count": 8,
   "metadata": {},
   "outputs": [],
   "source": [
    "user_encoder = LabelEncoder()\n",
    "movie_encoder = LabelEncoder()\n",
    "\n",
    "ratings_df['userId'] = user_encoder.fit_transform(ratings_df['userId'])\n",
    "ratings_df['movieId'] = movie_encoder.fit_transform(ratings_df['movieId'])"
   ]
  },
  {
   "cell_type": "code",
   "execution_count": 9,
   "metadata": {},
   "outputs": [],
   "source": [
    "#merged_data = pd.merge(ratings_df, tags_df, on='movieId', how='left')\n",
    "\n",
    "#merged_data = pd.merge(merged_data, movies_df, on='movieId', how='left')"
   ]
  },
  {
   "cell_type": "code",
   "execution_count": 10,
   "metadata": {},
   "outputs": [
    {
     "name": "stdout",
     "output_type": "stream",
     "text": [
      "--------- (broj redova, broj kolona)\n",
      "Filmovi: (27278, 3)\n",
      "Recenzije: (20000263, 4)\n",
      "Oznake: (465564, 4)\n"
     ]
    }
   ],
   "source": [
    "print(\"--------- (broj redova, broj kolona)\")\n",
    "print(\"Filmovi:\", movies_df.shape)\n",
    "print(\"Recenzije:\", ratings_df.shape)\n",
    "print(\"Oznake:\", tags_df.shape)"
   ]
  },
  {
   "cell_type": "code",
   "execution_count": 11,
   "metadata": {},
   "outputs": [
    {
     "name": "stdout",
     "output_type": "stream",
     "text": [
      "Broj jedinstvenih korisnika koji su ostavili recenziju: 138493\n",
      "Broj jedinstvenih korisnika koji su ostavili oznaku: 7801\n",
      "Broj jedinstvenih filmova koji su dobili recenziju: 26744\n",
      "Broj jedinstvenih filmova koji su dobili oznaku: 19545\n"
     ]
    }
   ],
   "source": [
    "num_users_ratings = len(ratings_df.userId.unique())\n",
    "num_movies_ratings = len(ratings_df.movieId.unique())\n",
    "num_users_tags = len(tags_df.userId.unique())\n",
    "num_movies_tags = len(tags_df.movieId.unique())\n",
    "\n",
    "print(f\"Broj jedinstvenih korisnika koji su ostavili recenziju: {num_users_ratings}\")\n",
    "print(f\"Broj jedinstvenih korisnika koji su ostavili oznaku: {num_users_tags}\")\n",
    "print(f\"Broj jedinstvenih filmova koji su dobili recenziju: {num_movies_ratings}\")\n",
    "print(f\"Broj jedinstvenih filmova koji su dobili oznaku: {num_movies_tags}\")"
   ]
  },
  {
   "cell_type": "code",
   "execution_count": 20,
   "metadata": {},
   "outputs": [
    {
     "name": "stdout",
     "output_type": "stream",
     "text": [
      "(9024, 3)\n",
      "(19545, 3)\n"
     ]
    }
   ],
   "source": [
    "movies_with_ratings_df = movies_df[movies_df['movieId'].isin(ratings_df['movieId'])]\n",
    "print(movies_with_ratings_df.shape)\n",
    "movies_with_tags_df = movies_df[movies_df['movieId'].isin(tags_df['movieId'])]\n",
    "print(movies_with_tags_df.shape)"
   ]
  },
  {
   "cell_type": "code",
   "execution_count": 21,
   "metadata": {},
   "outputs": [
    {
     "name": "stdout",
     "output_type": "stream",
     "text": [
      "(20737, 3)\n"
     ]
    }
   ],
   "source": [
    "# final_movies = pd.concat([unique_movie_rating_df, unique_movie_tag_df], ignore_index=True)\n",
    "# final_movies = final_movies.dropna(subset=['title', 'genres'], how='all')\n",
    "# final_movies = final_movies.drop_duplicates(subset=['movieId'])\n",
    "# print(final_movies.shape)\n",
    "combined_df = pd.concat([movies_with_ratings_df, movies_with_tags_df]).drop_duplicates(subset=['movieId'])\n",
    "print(combined_df.shape)"
   ]
  },
  {
   "cell_type": "code",
   "execution_count": 22,
   "metadata": {},
   "outputs": [
    {
     "name": "stdout",
     "output_type": "stream",
     "text": [
      "(20737, 3)\n"
     ]
    }
   ],
   "source": [
    "final_movies_unique = combined_df.reset_index(drop=True)\n",
    "print(final_movies_unique.shape)"
   ]
  },
  {
   "cell_type": "code",
   "execution_count": 23,
   "metadata": {},
   "outputs": [
    {
     "name": "stdout",
     "output_type": "stream",
     "text": [
      "   movieId                               title  \\\n",
      "0        1                    Toy Story (1995)   \n",
      "1        2                      Jumanji (1995)   \n",
      "2        3             Grumpier Old Men (1995)   \n",
      "3        4            Waiting to Exhale (1995)   \n",
      "4        5  Father of the Bride Part II (1995)   \n",
      "\n",
      "                                        genres  \n",
      "0  Adventure|Animation|Children|Comedy|Fantasy  \n",
      "1                   Adventure|Children|Fantasy  \n",
      "2                               Comedy|Romance  \n",
      "3                         Comedy|Drama|Romance  \n",
      "4                                       Comedy  \n"
     ]
    }
   ],
   "source": [
    "print(final_movies_unique.head())\n",
    "final_movies_unique.to_csv('./podaci/movie_2.csv', index=False)"
   ]
  },
  {
   "cell_type": "code",
   "execution_count": 24,
   "metadata": {},
   "outputs": [
    {
     "name": "stdout",
     "output_type": "stream",
     "text": [
      "Samo filmovi koji su dobil minimalno jednu recenziju ili oznaku: 20737\n"
     ]
    }
   ],
   "source": [
    "print(\"Samo filmovi koji su dobil minimalno jednu recenziju ili oznaku:\", len(final_movies_unique))"
   ]
  }
 ],
 "metadata": {
  "kernelspec": {
   "display_name": "Python 3",
   "language": "python",
   "name": "python3"
  },
  "language_info": {
   "codemirror_mode": {
    "name": "ipython",
    "version": 3
   },
   "file_extension": ".py",
   "mimetype": "text/x-python",
   "name": "python",
   "nbconvert_exporter": "python",
   "pygments_lexer": "ipython3",
   "version": "3.10.0"
  }
 },
 "nbformat": 4,
 "nbformat_minor": 2
}
