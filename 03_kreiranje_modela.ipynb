{
 "cells": [
  {
   "cell_type": "code",
   "execution_count": 2,
   "metadata": {},
   "outputs": [
    {
     "name": "stdout",
     "output_type": "stream",
     "text": [
      "WARNING:tensorflow:From c:\\Users\\DT User3\\AppData\\Local\\Programs\\Python\\Python310\\lib\\site-packages\\keras\\src\\losses.py:2976: The name tf.losses.sparse_softmax_cross_entropy is deprecated. Please use tf.compat.v1.losses.sparse_softmax_cross_entropy instead.\n",
      "\n"
     ]
    }
   ],
   "source": [
    "import numpy as np\n",
    "import pandas as pd\n",
    "from sklearn.model_selection import train_test_split\n",
    "from sklearn.preprocessing import LabelEncoder\n",
    "import tensorflow as tf"
   ]
  },
  {
   "cell_type": "code",
   "execution_count": 3,
   "metadata": {},
   "outputs": [],
   "source": [
    "ratings_data = pd.read_csv('./podaci/rating.csv', parse_dates=['timestamp'])"
   ]
  },
  {
   "cell_type": "code",
   "execution_count": 4,
   "metadata": {},
   "outputs": [
    {
     "name": "stdout",
     "output_type": "stream",
     "text": [
      "(12195566, 4)\n"
     ]
    }
   ],
   "source": [
    "filtered_ratings_df = ratings_data[ratings_data['rating'] > 3]\n",
    "print(filtered_ratings_df.shape)"
   ]
  },
  {
   "cell_type": "code",
   "execution_count": 5,
   "metadata": {},
   "outputs": [
    {
     "name": "stdout",
     "output_type": "stream",
     "text": [
      "Broj recenzija za treniranje: 3648172 kreiranih od strane 41508 korisnika\n"
     ]
    },
    {
     "data": {
      "text/html": [
       "<div>\n",
       "<style scoped>\n",
       "    .dataframe tbody tr th:only-of-type {\n",
       "        vertical-align: middle;\n",
       "    }\n",
       "\n",
       "    .dataframe tbody tr th {\n",
       "        vertical-align: top;\n",
       "    }\n",
       "\n",
       "    .dataframe thead th {\n",
       "        text-align: right;\n",
       "    }\n",
       "</style>\n",
       "<table border=\"1\" class=\"dataframe\">\n",
       "  <thead>\n",
       "    <tr style=\"text-align: right;\">\n",
       "      <th></th>\n",
       "      <th>userId</th>\n",
       "      <th>movieId</th>\n",
       "      <th>rating</th>\n",
       "      <th>timestamp</th>\n",
       "    </tr>\n",
       "  </thead>\n",
       "  <tbody>\n",
       "    <tr>\n",
       "      <th>6902451</th>\n",
       "      <td>47556</td>\n",
       "      <td>4306</td>\n",
       "      <td>3.5</td>\n",
       "      <td>2006-12-10 05:03:19</td>\n",
       "    </tr>\n",
       "    <tr>\n",
       "      <th>19468739</th>\n",
       "      <td>134728</td>\n",
       "      <td>30707</td>\n",
       "      <td>3.5</td>\n",
       "      <td>2014-12-13 23:25:30</td>\n",
       "    </tr>\n",
       "    <tr>\n",
       "      <th>5493001</th>\n",
       "      <td>37764</td>\n",
       "      <td>3361</td>\n",
       "      <td>4.0</td>\n",
       "      <td>2001-02-23 07:21:39</td>\n",
       "    </tr>\n",
       "    <tr>\n",
       "      <th>18188288</th>\n",
       "      <td>125795</td>\n",
       "      <td>2075</td>\n",
       "      <td>4.5</td>\n",
       "      <td>2005-03-21 20:03:57</td>\n",
       "    </tr>\n",
       "    <tr>\n",
       "      <th>4797232</th>\n",
       "      <td>32957</td>\n",
       "      <td>1247</td>\n",
       "      <td>5.0</td>\n",
       "      <td>2000-12-11 16:11:40</td>\n",
       "    </tr>\n",
       "  </tbody>\n",
       "</table>\n",
       "</div>"
      ],
      "text/plain": [
       "          userId  movieId  rating           timestamp\n",
       "6902451    47556     4306     3.5 2006-12-10 05:03:19\n",
       "19468739  134728    30707     3.5 2014-12-13 23:25:30\n",
       "5493001    37764     3361     4.0 2001-02-23 07:21:39\n",
       "18188288  125795     2075     4.5 2005-03-21 20:03:57\n",
       "4797232    32957     1247     5.0 2000-12-11 16:11:40"
      ]
     },
     "execution_count": 5,
     "metadata": {},
     "output_type": "execute_result"
    }
   ],
   "source": [
    "rand_userIds = np.random.choice(filtered_ratings_df['userId'].unique(), \n",
    "                                size=int(len(filtered_ratings_df['userId'].unique())*0.3), \n",
    "                                replace=False)\n",
    "\n",
    "ratings = filtered_ratings_df.loc[filtered_ratings_df['userId'].isin(rand_userIds)]\n",
    "\n",
    "print('Broj recenzija za treniranje: {} kreiranih od strane {} korisnika'.format(len(ratings), len(rand_userIds)))\n",
    "ratings.sample(5)"
   ]
  },
  {
   "cell_type": "code",
   "execution_count": 209,
   "metadata": {},
   "outputs": [],
   "source": [
    "# user_review_counts = filtered_ratings_df['userId'].value_counts()\n",
    "# movie_review_counts = filtered_ratings_df['movieId'].value_counts()\n",
    "\n",
    "# selected_users = user_review_counts[user_review_counts > 70].index\n",
    "# selected_movies = movie_review_counts[movie_review_counts > 200].index\n",
    "\n",
    "# filtered_ratings_df = filtered_ratings_df[(filtered_ratings_df['userId'].isin(selected_users)) & (filtered_ratings_df['movieId'].isin(selected_movies))]"
   ]
  },
  {
   "cell_type": "code",
   "execution_count": 6,
   "metadata": {},
   "outputs": [
    {
     "name": "stdout",
     "output_type": "stream",
     "text": [
      "(3648172, 4)\n",
      "     userId  movieId  rating           timestamp\n",
      "452       0       10     5.0 1996-12-25 15:29:11\n",
      "455       0       61     5.0 1996-12-25 15:15:35\n",
      "457       0      108     4.0 1996-12-25 15:26:09\n",
      "459       0      139     5.0 1996-12-25 15:15:35\n",
      "460       0      147     5.0 1996-12-25 15:25:14\n"
     ]
    }
   ],
   "source": [
    "user_encoder = LabelEncoder()\n",
    "movie_encoder = LabelEncoder()\n",
    "ratings.loc[:, 'userId'] = user_encoder.fit_transform(ratings['userId'])\n",
    "ratings.loc[:, 'movieId'] = movie_encoder.fit_transform(ratings['movieId'])\n",
    "print(ratings.shape)\n",
    "print(ratings.head())"
   ]
  },
  {
   "cell_type": "code",
   "execution_count": 7,
   "metadata": {},
   "outputs": [],
   "source": [
    "#filtered_ratings = ratings.dropna(inplace=True)\n",
    "#filtered_ratings = ratings.reset_index(drop=True)\n",
    "train_data, test_data = train_test_split(ratings, test_size=0.2, random_state=42)"
   ]
  },
  {
   "cell_type": "code",
   "execution_count": 21,
   "metadata": {},
   "outputs": [],
   "source": [
    "user_input = tf.keras.layers.Input(shape=(1,))\n",
    "user_embedding = tf.keras.layers.Embedding(input_dim=len(user_encoder.classes_), output_dim=50, input_length=1)(user_input)\n",
    "user_flatten = tf.keras.layers.Flatten()(user_embedding)\n",
    "\n",
    "movie_input = tf.keras.layers.Input(shape=(1,))\n",
    "movie_embedding = tf.keras.layers.Embedding(input_dim=len(movie_encoder.classes_), output_dim=50, input_length=1)(movie_input)\n",
    "movie_flatten = tf.keras.layers.Flatten()(movie_embedding)\n",
    "\n",
    "concatenated = tf.keras.layers.Concatenate()([user_flatten, movie_flatten])\n",
    "\n",
    "dense_layer = tf.keras.layers.Dense(128, activation='relu')(concatenated)\n",
    "output_layer = tf.keras.layers.Dense(1, activation='linear')(dense_layer)"
   ]
  },
  {
   "cell_type": "code",
   "execution_count": 22,
   "metadata": {},
   "outputs": [],
   "source": [
    "model = tf.keras.Model(inputs=[user_input, movie_input], outputs=output_layer)"
   ]
  },
  {
   "cell_type": "code",
   "execution_count": 23,
   "metadata": {},
   "outputs": [
    {
     "name": "stdout",
     "output_type": "stream",
     "text": [
      "[name: \"/device:CPU:0\"\n",
      "device_type: \"CPU\"\n",
      "memory_limit: 268435456\n",
      "locality {\n",
      "}\n",
      "incarnation: 16066817329620481170\n",
      "xla_global_id: -1\n",
      "]\n"
     ]
    }
   ],
   "source": [
    "from tensorflow.python.client import device_lib\n",
    "print(device_lib.list_local_devices())"
   ]
  },
  {
   "cell_type": "code",
   "execution_count": 215,
   "metadata": {},
   "outputs": [
    {
     "name": "stdout",
     "output_type": "stream",
     "text": [
      "Model: \"model_16\"\n",
      "__________________________________________________________________________________________________\n",
      " Layer (type)                Output Shape                 Param #   Connected to                  \n",
      "==================================================================================================\n",
      " input_33 (InputLayer)       [(None, 1)]                  0         []                            \n",
      "                                                                                                  \n",
      " input_34 (InputLayer)       [(None, 1)]                  0         []                            \n",
      "                                                                                                  \n",
      " embedding_34 (Embedding)    (None, 1, 50)                2075400   ['input_33[0][0]']            \n",
      "                                                                                                  \n",
      " embedding_35 (Embedding)    (None, 1, 50)                938300    ['input_34[0][0]']            \n",
      "                                                                                                  \n",
      " flatten_34 (Flatten)        (None, 50)                   0         ['embedding_34[0][0]']        \n",
      "                                                                                                  \n",
      " flatten_35 (Flatten)        (None, 50)                   0         ['embedding_35[0][0]']        \n",
      "                                                                                                  \n",
      " concatenate_17 (Concatenat  (None, 100)                  0         ['flatten_34[0][0]',          \n",
      " e)                                                                  'flatten_35[0][0]']          \n",
      "                                                                                                  \n",
      " dense_41 (Dense)            (None, 128)                  12928     ['concatenate_17[0][0]']      \n",
      "                                                                                                  \n",
      " dense_42 (Dense)            (None, 1)                    129       ['dense_41[0][0]']            \n",
      "                                                                                                  \n",
      "==================================================================================================\n",
      "Total params: 3026757 (11.55 MB)\n",
      "Trainable params: 3026757 (11.55 MB)\n",
      "Non-trainable params: 0 (0.00 Byte)\n",
      "__________________________________________________________________________________________________\n"
     ]
    }
   ],
   "source": [
    "model.compile(optimizer='adam', loss='mean_squared_error', metrics=['mae'])\n",
    "model.summary()"
   ]
  },
  {
   "cell_type": "code",
   "execution_count": 8,
   "metadata": {},
   "outputs": [],
   "source": [
    "train_user_data = train_data['userId'].values\n",
    "train_movie_data = train_data['movieId'].values\n",
    "train_ratings_data = train_data['rating'].values\n",
    "\n",
    "test_user_data = test_data['userId'].values\n",
    "test_movie_data = test_data['movieId'].values\n",
    "test_ratings_data = test_data['rating'].values"
   ]
  },
  {
   "cell_type": "code",
   "execution_count": 217,
   "metadata": {},
   "outputs": [
    {
     "name": "stdout",
     "output_type": "stream",
     "text": [
      "Epoch 1/10\n",
      "45695/45695 [==============================] - 810s 18ms/step - loss: 0.2416 - mae: 0.3944 - val_loss: 0.2053 - val_mae: 0.3778\n",
      "Epoch 2/10\n",
      "45695/45695 [==============================] - 809s 18ms/step - loss: 0.2005 - mae: 0.3712 - val_loss: 0.2010 - val_mae: 0.3704\n",
      "Epoch 3/10\n",
      "45695/45695 [==============================] - 787s 17ms/step - loss: 0.1955 - mae: 0.3648 - val_loss: 0.2000 - val_mae: 0.3700\n",
      "Epoch 4/10\n",
      "45695/45695 [==============================] - 786s 17ms/step - loss: 0.1914 - mae: 0.3595 - val_loss: 0.1985 - val_mae: 0.3689\n",
      "Epoch 5/10\n",
      "45695/45695 [==============================] - 787s 17ms/step - loss: 0.1870 - mae: 0.3539 - val_loss: 0.1978 - val_mae: 0.3656\n",
      "Epoch 6/10\n",
      "45695/45695 [==============================] - 788s 17ms/step - loss: 0.1825 - mae: 0.3479 - val_loss: 0.1992 - val_mae: 0.3670\n",
      "Epoch 7/10\n",
      "45695/45695 [==============================] - 790s 17ms/step - loss: 0.1780 - mae: 0.3419 - val_loss: 0.2016 - val_mae: 0.3679\n",
      "Epoch 8/10\n",
      "45695/45695 [==============================] - 787s 17ms/step - loss: 0.1736 - mae: 0.3359 - val_loss: 0.2010 - val_mae: 0.3656\n",
      "Epoch 9/10\n",
      "45695/45695 [==============================] - 788s 17ms/step - loss: 0.1692 - mae: 0.3300 - val_loss: 0.2028 - val_mae: 0.3662\n",
      "Epoch 10/10\n",
      "45695/45695 [==============================] - 791s 17ms/step - loss: 0.1649 - mae: 0.3241 - val_loss: 0.2048 - val_mae: 0.3679\n"
     ]
    },
    {
     "data": {
      "text/plain": [
       "<keras.src.callbacks.History at 0x21c56cca4a0>"
      ]
     },
     "execution_count": 217,
     "metadata": {},
     "output_type": "execute_result"
    }
   ],
   "source": [
    "model.fit([train_user_data, train_movie_data], train_ratings_data, epochs=10, batch_size=64, validation_data=([test_user_data, test_movie_data], test_ratings_data))"
   ]
  },
  {
   "cell_type": "code",
   "execution_count": 219,
   "metadata": {},
   "outputs": [
    {
     "name": "stderr",
     "output_type": "stream",
     "text": [
      "c:\\Users\\DT User3\\AppData\\Local\\Programs\\Python\\Python310\\lib\\site-packages\\keras\\src\\engine\\training.py:3103: UserWarning: You are saving your model as an HDF5 file via `model.save()`. This file format is considered legacy. We recommend using instead the native Keras format, e.g. `model.save('my_model.keras')`.\n",
      "  saving_api.save_model(\n"
     ]
    }
   ],
   "source": [
    "model.save('./modeli/model_1.h5')\n",
    "model.save('./modeli/model_1.keras')"
   ]
  },
  {
   "cell_type": "code",
   "execution_count": 9,
   "metadata": {},
   "outputs": [
    {
     "name": "stdout",
     "output_type": "stream",
     "text": [
      "WARNING:tensorflow:From c:\\Users\\DT User3\\AppData\\Local\\Programs\\Python\\Python310\\lib\\site-packages\\keras\\src\\backend.py:1398: The name tf.executing_eagerly_outside_functions is deprecated. Please use tf.compat.v1.executing_eagerly_outside_functions instead.\n",
      "\n",
      "WARNING:tensorflow:From c:\\Users\\DT User3\\AppData\\Local\\Programs\\Python\\Python310\\lib\\site-packages\\keras\\src\\optimizers\\__init__.py:309: The name tf.train.Optimizer is deprecated. Please use tf.compat.v1.train.Optimizer instead.\n",
      "\n"
     ]
    }
   ],
   "source": [
    "loaded_model = tf.keras.models.load_model('./modeli/model_1.keras')"
   ]
  },
  {
   "cell_type": "code",
   "execution_count": 11,
   "metadata": {},
   "outputs": [
    {
     "name": "stdout",
     "output_type": "stream",
     "text": [
      "22802/22802 [==============================] - 21s 926us/step\n"
     ]
    }
   ],
   "source": [
    "predictions = loaded_model.predict([test_user_data, test_movie_data])"
   ]
  },
  {
   "cell_type": "code",
   "execution_count": 12,
   "metadata": {},
   "outputs": [
    {
     "name": "stdout",
     "output_type": "stream",
     "text": [
      "Mean Squared Error: 0.33967520709132004\n"
     ]
    }
   ],
   "source": [
    "from sklearn.metrics import mean_squared_error\n",
    "mse = mean_squared_error(test_ratings_data, predictions)\n",
    "print(f'Mean Squared Error: {mse}')"
   ]
  },
  {
   "cell_type": "code",
   "execution_count": 13,
   "metadata": {},
   "outputs": [
    {
     "name": "stdout",
     "output_type": "stream",
     "text": [
      "WARNING:tensorflow:From c:\\Users\\DT User3\\AppData\\Local\\Programs\\Python\\Python310\\lib\\site-packages\\keras\\src\\utils\\tf_utils.py:492: The name tf.ragged.RaggedTensorValue is deprecated. Please use tf.compat.v1.ragged.RaggedTensorValue instead.\n",
      "\n",
      "WARNING:tensorflow:From c:\\Users\\DT User3\\AppData\\Local\\Programs\\Python\\Python310\\lib\\site-packages\\keras\\src\\engine\\base_layer_utils.py:384: The name tf.executing_eagerly_outside_functions is deprecated. Please use tf.compat.v1.executing_eagerly_outside_functions instead.\n",
      "\n",
      "Test loss: 0.33967527747154236\n",
      "Test accuracy: 0.4813114106655121\n"
     ]
    }
   ],
   "source": [
    "score = loaded_model.evaluate([test_user_data, test_movie_data], test_ratings_data, verbose=0)\n",
    "print('Test loss:', score[0])\n",
    "print('Test accuracy:', score[1])"
   ]
  }
 ],
 "metadata": {
  "kernelspec": {
   "display_name": "Python 3",
   "language": "python",
   "name": "python3"
  },
  "language_info": {
   "codemirror_mode": {
    "name": "ipython",
    "version": 3
   },
   "file_extension": ".py",
   "mimetype": "text/x-python",
   "name": "python",
   "nbconvert_exporter": "python",
   "pygments_lexer": "ipython3",
   "version": "3.10.0"
  }
 },
 "nbformat": 4,
 "nbformat_minor": 2
}
