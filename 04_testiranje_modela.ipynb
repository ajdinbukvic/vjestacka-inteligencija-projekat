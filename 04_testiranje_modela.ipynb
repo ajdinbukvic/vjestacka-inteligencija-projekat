{
 "cells": [
  {
   "cell_type": "code",
   "execution_count": 70,
   "metadata": {},
   "outputs": [],
   "source": [
    "import numpy as np\n",
    "import pandas as pd\n",
    "from sklearn.model_selection import train_test_split\n",
    "from sklearn.preprocessing import LabelEncoder\n",
    "import tensorflow as tf"
   ]
  },
  {
   "cell_type": "code",
   "execution_count": 3,
   "metadata": {},
   "outputs": [],
   "source": [
    "ratings_data = pd.read_csv('./podaci/rating.csv', parse_dates=['timestamp'])"
   ]
  },
  {
   "cell_type": "code",
   "execution_count": 4,
   "metadata": {},
   "outputs": [
    {
     "name": "stdout",
     "output_type": "stream",
     "text": [
      "WARNING:tensorflow:From c:\\Users\\DT User3\\AppData\\Local\\Programs\\Python\\Python310\\lib\\site-packages\\keras\\src\\backend.py:1398: The name tf.executing_eagerly_outside_functions is deprecated. Please use tf.compat.v1.executing_eagerly_outside_functions instead.\n",
      "\n",
      "WARNING:tensorflow:From c:\\Users\\DT User3\\AppData\\Local\\Programs\\Python\\Python310\\lib\\site-packages\\keras\\src\\optimizers\\__init__.py:309: The name tf.train.Optimizer is deprecated. Please use tf.compat.v1.train.Optimizer instead.\n",
      "\n"
     ]
    }
   ],
   "source": [
    "model = tf.keras.models.load_model('./modeli/model_1.keras')"
   ]
  },
  {
   "cell_type": "code",
   "execution_count": 17,
   "metadata": {},
   "outputs": [],
   "source": [
    "# filtered_ratings_df = ratings_data[ratings_data['rating'] > 3]\n",
    "# print(filtered_ratings_df.shape)\n",
    "# rand_userIds = np.random.choice(filtered_ratings_df['userId'].unique(), \n",
    "#                                 size=int(len(filtered_ratings_df['userId'].unique())*0.3), \n",
    "#                                 replace=False)\n",
    "# ratings = filtered_ratings_df.loc[filtered_ratings_df['userId'].isin(rand_userIds)]\n",
    "# ratings.to_csv('./podaci/rating_2.csv', index=False)\n",
    "ratings = pd.read_csv('./podaci/rating_2.csv', parse_dates=['timestamp'])"
   ]
  },
  {
   "cell_type": "code",
   "execution_count": 18,
   "metadata": {},
   "outputs": [],
   "source": [
    "movies_data = pd.read_csv('./podaci/movie.csv')"
   ]
  },
  {
   "cell_type": "code",
   "execution_count": 21,
   "metadata": {},
   "outputs": [
    {
     "name": "stdout",
     "output_type": "stream",
     "text": [
      "[12616 13529 15728  8109  5787 12222 15223 12883 14868 10658]\n"
     ]
    }
   ],
   "source": [
    "user_id_to_predict = 11\n",
    "all_movie_ids = ratings_data['movieId'].unique()\n",
    "rated_movie_ids_by_user = ratings[ratings['userId'] == user_id_to_predict]['movieId'].unique()\n",
    "movies_not_rated_by_user = set(all_movie_ids) - set(rated_movie_ids_by_user)\n",
    "movies_not_rated_list = sorted(list(movies_not_rated_by_user))\n",
    "movies_to_predict = np.random.choice(movies_not_rated_list, size=10, replace=False)\n",
    "print(movies_to_predict)\n",
    "movies_to_predict = [2178, 18, 973, 320, 5411]"
   ]
  },
  {
   "cell_type": "code",
   "execution_count": 22,
   "metadata": {},
   "outputs": [],
   "source": [
    "user_encoder = LabelEncoder()\n",
    "movie_encoder = LabelEncoder()\n",
    "ratings.loc[:, 'userId'] = user_encoder.fit_transform(ratings['userId'])\n",
    "ratings.loc[:, 'movieId'] = movie_encoder.fit_transform(ratings['movieId'])\n",
    "user_index = user_encoder.transform([user_id_to_predict])[0]\n",
    "movie_indices = movie_encoder.transform(movies_to_predict)"
   ]
  },
  {
   "cell_type": "code",
   "execution_count": 23,
   "metadata": {},
   "outputs": [
    {
     "name": "stdout",
     "output_type": "stream",
     "text": [
      "1/1 [==============================] - 0s 20ms/step\n"
     ]
    }
   ],
   "source": [
    "predictions = model.predict([np.array([user_index] * len(movie_indices)), np.array(movie_indices)])\n",
    "real_ratings = predictions.flatten() + 0.5"
   ]
  },
  {
   "cell_type": "code",
   "execution_count": 24,
   "metadata": {},
   "outputs": [
    {
     "name": "stdout",
     "output_type": "stream",
     "text": [
      "[(973, 5.3323736), (2178, 5.2837534), (5411, 4.9749994), (320, 4.952567), (18, 4.9476132)]\n"
     ]
    }
   ],
   "source": [
    "movie_ratings = list(zip(movies_to_predict, real_ratings))\n",
    "sorted_predictions = sorted(movie_ratings, key=lambda x: x[1], reverse=True)\n",
    "print(sorted_predictions)"
   ]
  },
  {
   "cell_type": "code",
   "execution_count": 25,
   "metadata": {},
   "outputs": [
    {
     "name": "stdout",
     "output_type": "stream",
     "text": [
      "Predviđene ocjene za korisnika 11:\n",
      "Film ID 973: Meet John Doe (1941), Predviđena ocjena 5\n",
      "Film ID 2178: Frenzy (1972), Predviđena ocjena 5\n",
      "Film ID 5411: Summer Holiday (1963), Predviđena ocjena 4\n",
      "Film ID 320: Suture (1993), Predviđena ocjena 4\n",
      "Film ID 18: Four Rooms (1995), Predviđena ocjena 4\n"
     ]
    }
   ],
   "source": [
    "print(f\"Predviđene ocjene za korisnika {user_id_to_predict}:\")\n",
    "for movie_id, rating in sorted_predictions:\n",
    "    movie_title = movies_data[movies_data['movieId'] == movie_id]['title'].values[0]\n",
    "    print(f\"Film ID {movie_id}: {movie_title}, Predviđena ocjena {int(rating)}\")"
   ]
  },
  {
   "cell_type": "code",
   "execution_count": 67,
   "metadata": {},
   "outputs": [],
   "source": [
    "user_id_to_recommend = 12\n",
    "movies_not_rated_by_user = ratings[~ratings['userId'].isin([user_id_to_recommend])]['movieId'].unique()\n",
    "user_index = user_encoder.transform([user_id_to_recommend])[0]\n",
    "movie_indices_to_recommend = movie_encoder.transform(movies_not_rated_by_user)"
   ]
  },
  {
   "cell_type": "code",
   "execution_count": 68,
   "metadata": {},
   "outputs": [
    {
     "name": "stdout",
     "output_type": "stream",
     "text": [
      "582/582 [==============================] - 1s 982us/step\n",
      "[(1154, 5.42608), (255, 5.401637), (3659, 5.3553987), (2210, 5.352063), (6256, 5.3461165), (1356, 5.32868), (13258, 5.3156824), (12497, 5.311924), (13857, 5.3088274), (313, 5.3058167)]\n"
     ]
    }
   ],
   "source": [
    "predictions = model.predict([np.array([user_index] * len(movie_indices_to_recommend)), np.array(movie_indices_to_recommend)])\n",
    "real_ratings = predictions.flatten() + 0.5\n",
    "movie_ratings = list(zip(movies_not_rated_by_user, real_ratings))\n",
    "sorted_recommendations = sorted(movie_ratings, key=lambda x: x[1], reverse=True)\n",
    "print(sorted_recommendations[:10])"
   ]
  },
  {
   "cell_type": "code",
   "execution_count": 71,
   "metadata": {},
   "outputs": [
    {
     "name": "stdout",
     "output_type": "stream",
     "text": [
      "Preporuke za korisnika ID 12:\n",
      "Naziv filma (ID 1154): T-Men (1947)\n",
      "Naziv filma (ID 255): Jerky Boys, The (1995)\n",
      "Naziv filma (ID 3659): Quatermass 2 (Enemy from Space) (1957)\n",
      "Naziv filma (ID 2210): Sabotage (1936)\n",
      "Naziv filma (ID 6256): House with Laughing Windows, The (Casa dalle finestre che ridono, La) (1976)\n",
      "Naziv filma (ID 1356): Star Trek: First Contact (1996)\n",
      "Naziv filma (ID 313): Swan Princess, The (1994)\n",
      "Naziv filma (ID 1093): Doors, The (1991)\n",
      "Naziv filma (ID 6803): Phenomena (a.k.a. Creepers) (1985)\n",
      "Naziv filma (ID 2637): Mummy's Hand, The (1940)\n"
     ]
    }
   ],
   "source": [
    "top_n_movies = 0\n",
    "print(f\"Preporuke za korisnika ID {user_id_to_recommend}:\")\n",
    "for movie_id, rating in sorted_recommendations:  # Prikazujemo prvih 10 preporuka\n",
    "    if movie_id in movies_data['movieId'].values:\n",
    "      movie_title = movies_data[movies_data['movieId'] == movie_id]['title'].values[0]\n",
    "      print(f\"Naziv filma (ID {movie_id}): {movie_title}\")\n",
    "      top_n_movies += 1\n",
    "      if top_n_movies == 10:\n",
    "        break"
   ]
  }
 ],
 "metadata": {
  "kernelspec": {
   "display_name": "Python 3",
   "language": "python",
   "name": "python3"
  },
  "language_info": {
   "codemirror_mode": {
    "name": "ipython",
    "version": 3
   },
   "file_extension": ".py",
   "mimetype": "text/x-python",
   "name": "python",
   "nbconvert_exporter": "python",
   "pygments_lexer": "ipython3",
   "version": "3.10.0"
  }
 },
 "nbformat": 4,
 "nbformat_minor": 2
}
